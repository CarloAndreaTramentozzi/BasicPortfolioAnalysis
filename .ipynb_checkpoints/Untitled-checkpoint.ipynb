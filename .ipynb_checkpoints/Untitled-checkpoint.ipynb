{
 "cells": [
  {
   "cell_type": "code",
   "execution_count": null,
   "id": "fdd37f1b-a50e-4c41-9bf6-19e963db2fc5",
   "metadata": {},
   "outputs": [],
   "source": [
    "#1.Importazione librerie\n",
    "import yfinance as yf\n",
    "import pandas as pd\n",
    "import numpy as np\n",
    "import matplotlib.pyplot as plt\n",
    "import seaborn as sns\n",
    "\n",
    "#Impostazioni grafiche\n",
    "plt.style.use(\"seaborn-v0_8\")\n"
   ]
  },
  {
   "cell_type": "code",
   "execution_count": null,
   "id": "f16cdcb5-a3bd-4712-9a2d-b431413d1555",
   "metadata": {},
   "outputs": [],
   "source": [
    "# 2.Download dati storici da Yahoo Finance\n",
    "\n",
    "# Lista di ticker (puoi modificarli: titoli USA o italiani con .MI, es: \"ENI.MI\")\n",
    "tickers = [\"AAPL\", \"MSFT\", \"GOOG\", \"AMZN\", \"TSLA\"]\n",
    "\n",
    "# Scarico dati (5 anni)\n",
    "data = yf.download(tickers, start=\"2018-01-01\", end=\"2023-12-31\")[\"Adj Close\"]\n",
    "\n",
    "# Mostro prime righe\n",
    "data.head()\n"
   ]
  },
  {
   "cell_type": "code",
   "execution_count": null,
   "id": "4a35f972-203f-424a-b690-9630afa38d8b",
   "metadata": {},
   "outputs": [],
   "source": [
    "# 3.Calcolo rendimenti\n",
    "\n",
    "# Rendimenti giornalieri\n",
    "returns = data.pct_change().dropna()\n",
    "\n",
    "# Rendimenti medi annualizzati\n",
    "mean_returns = returns.mean() * 252\n",
    "\n",
    "# Volatilità annualizzata\n",
    "volatility = returns.std() * np.sqrt(252)\n",
    "\n",
    "# Tabella riassuntiva\n",
    "summary = pd.DataFrame({\n",
    "    \"Mean Return\": mean_returns,\n",
    "    \"Volatility\": volatility\n",
    "})\n",
    "summary\n"
   ]
  },
  {
   "cell_type": "code",
   "execution_count": null,
   "id": "3b8dfcd6-f722-4101-8675-c6082314a094",
   "metadata": {},
   "outputs": [],
   "source": [
    "# ====================================\n",
    "# 4. Rendimenti cumulati\n",
    "# ====================================\n",
    "cumulative_returns = (1 + returns).cumprod()\n",
    "\n",
    "cumulative_returns.plot(figsize=(10,6))\n",
    "plt.title(\"Cumulative Returns (2018-2023)\")\n",
    "plt.ylabel(\"Growth of $1 investment\")\n",
    "plt.show()\n"
   ]
  },
  {
   "cell_type": "code",
   "execution_count": null,
   "id": "ce8f3d1f-6fee-41f4-a84f-3eedb81507c9",
   "metadata": {},
   "outputs": [],
   "source": [
    "# ====================================\n",
    "# 5. Correlazioni tra asset\n",
    "# ====================================\n",
    "plt.figure(figsize=(8,6))\n",
    "sns.heatmap(returns.corr(), annot=True, cmap=\"coolwarm\", vmin=-1, vmax=1)\n",
    "plt.title(\"Correlation Matrix of Returns\")\n",
    "plt.show()\n"
   ]
  },
  {
   "cell_type": "code",
   "execution_count": null,
   "id": "1a6ceb43-2526-43be-a796-3e3fb218c95b",
   "metadata": {},
   "outputs": [],
   "source": [
    "Markdown per le conclusioni : "
   ]
  }
 ],
 "metadata": {
  "kernelspec": {
   "display_name": "Python 3 (ipykernel)",
   "language": "python",
   "name": "python3"
  },
  "language_info": {
   "codemirror_mode": {
    "name": "ipython",
    "version": 3
   },
   "file_extension": ".py",
   "mimetype": "text/x-python",
   "name": "python",
   "nbconvert_exporter": "python",
   "pygments_lexer": "ipython3",
   "version": "3.11.7"
  }
 },
 "nbformat": 4,
 "nbformat_minor": 5
}
